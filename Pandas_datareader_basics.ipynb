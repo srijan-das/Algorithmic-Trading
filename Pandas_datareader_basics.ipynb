{
 "cells": [
  {
   "cell_type": "code",
   "execution_count": 1,
   "metadata": {},
   "outputs": [
    {
     "name": "stderr",
     "output_type": "stream",
     "text": [
      "C:\\Users\\Srijan\\Anaconda3\\envs\\Udemy\\lib\\site-packages\\pandas_datareader\\compat\\__init__.py:7: FutureWarning: pandas.util.testing is deprecated. Use the functions in the public API at pandas.testing instead.\n",
      "  from pandas.util.testing import assert_frame_equal\n"
     ]
    }
   ],
   "source": [
    "import pandas_datareader.data as pdr\n",
    "import pandas as pd\n",
    "import datetime as dt"
   ]
  },
  {
   "cell_type": "code",
   "execution_count": 2,
   "metadata": {},
   "outputs": [],
   "source": [
    "ticker = 'AMZN'\n",
    "start = pd.to_datetime('2015-01-01')\n",
    "end = pd.to_datetime('2016-01-01')"
   ]
  },
  {
   "cell_type": "code",
   "execution_count": 3,
   "metadata": {},
   "outputs": [],
   "source": [
    "amzn_data = pdr.get_data_yahoo(ticker, start, end, interval='d')"
   ]
  },
  {
   "cell_type": "code",
   "execution_count": 4,
   "metadata": {},
   "outputs": [
    {
     "name": "stdout",
     "output_type": "stream",
     "text": [
      "                  High         Low        Open       Close   Volume  \\\n",
      "Date                                                                  \n",
      "2014-12-31  312.980011  310.010010  311.549988  310.350006  2048000   \n",
      "2015-01-02  314.750000  306.959991  312.579987  308.519989  2783200   \n",
      "2015-01-05  308.380005  300.850006  307.010010  302.190002  2774200   \n",
      "2015-01-06  303.000000  292.380005  302.239990  295.290009  3519000   \n",
      "2015-01-07  301.279999  295.329987  297.500000  298.420013  2640300   \n",
      "\n",
      "             Adj Close  \n",
      "Date                    \n",
      "2014-12-31  310.350006  \n",
      "2015-01-02  308.519989  \n",
      "2015-01-05  302.190002  \n",
      "2015-01-06  295.290009  \n",
      "2015-01-07  298.420013  \n"
     ]
    }
   ],
   "source": [
    "print(amzn_data.head())"
   ]
  },
  {
   "cell_type": "code",
   "execution_count": 5,
   "metadata": {},
   "outputs": [
    {
     "name": "stdout",
     "output_type": "stream",
     "text": [
      "<class 'pandas.core.frame.DataFrame'>\n",
      "DatetimeIndex: 253 entries, 2014-12-31 to 2015-12-31\n",
      "Data columns (total 6 columns):\n",
      " #   Column     Non-Null Count  Dtype  \n",
      "---  ------     --------------  -----  \n",
      " 0   High       253 non-null    float64\n",
      " 1   Low        253 non-null    float64\n",
      " 2   Open       253 non-null    float64\n",
      " 3   Close      253 non-null    float64\n",
      " 4   Volume     253 non-null    int64  \n",
      " 5   Adj Close  253 non-null    float64\n",
      "dtypes: float64(5), int64(1)\n",
      "memory usage: 13.8 KB\n"
     ]
    }
   ],
   "source": [
    "amzn_data.info()"
   ]
  },
  {
   "cell_type": "code",
   "execution_count": null,
   "metadata": {},
   "outputs": [],
   "source": []
  }
 ],
 "metadata": {
  "kernelspec": {
   "display_name": "Python 3",
   "language": "python",
   "name": "python3"
  },
  "language_info": {
   "codemirror_mode": {
    "name": "ipython",
    "version": 3
   },
   "file_extension": ".py",
   "mimetype": "text/x-python",
   "name": "python",
   "nbconvert_exporter": "python",
   "pygments_lexer": "ipython3",
   "version": "3.7.7"
  }
 },
 "nbformat": 4,
 "nbformat_minor": 4
}
